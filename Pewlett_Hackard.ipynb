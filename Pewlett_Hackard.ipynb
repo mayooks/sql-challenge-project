{
 "cells": [
  {
   "cell_type": "code",
   "execution_count": 1,
   "id": "75ab65da",
   "metadata": {},
   "outputs": [
    {
     "name": "stderr",
     "output_type": "stream",
     "text": [
      "/Users/user/opt/anaconda3/envs/PythonData/lib/python3.7/site-packages/psycopg2/__init__.py:144: UserWarning: The psycopg2 wheel package will be renamed from release 2.8; in order to keep installing from binary please use \"pip install psycopg2-binary\" instead. For details see: <http://initd.org/psycopg/docs/install.html#binary-install-from-pypi>.\n",
      "  \"\"\")\n"
     ]
    }
   ],
   "source": [
    "from sqlalchemy import create_engine\n",
    "import pandas as pd\n",
    "import pandas.io.sql as sqlio\n",
    "import psycopg2 as ps\n",
    "import seaborn as sns\n",
    "import matplotlib.pyplot as plt\n",
    "import plotly.express as px\n",
    "from matplotlib.ticker import FuncFormatter\n",
    "from gp_keys import gp_key"
   ]
  },
  {
   "cell_type": "code",
   "execution_count": 2,
   "id": "c2a47678",
   "metadata": {},
   "outputs": [
    {
     "name": "stdout",
     "output_type": "stream",
     "text": [
      "Requirement already satisfied: psycopg2-binary in /Users/user/opt/anaconda3/envs/PythonData/lib/python3.7/site-packages (2.9.3)\n",
      "Note: you may need to restart the kernel to use updated packages.\n"
     ]
    }
   ],
   "source": [
    "pip install psycopg2-binary"
   ]
  },
  {
   "cell_type": "code",
   "execution_count": 3,
   "id": "b33807a5",
   "metadata": {},
   "outputs": [],
   "source": [
    "# Connecting to the Sql-Challenge database\n",
    "conn2 = ps.connect(dbname = 'SQL_Challenge',\n",
    "                   user = 'postgres',\n",
    "                   password = gp_key,\n",
    "                   host = 'localhost',\n",
    "                   port = '5432')"
   ]
  },
  {
   "cell_type": "code",
   "execution_count": 4,
   "id": "6f1f2305",
   "metadata": {},
   "outputs": [],
   "source": [
    "#Selecting all columns from the salaries table\n",
    "sql =\"\"\"select * from salaries\"\"\""
   ]
  },
  {
   "cell_type": "code",
   "execution_count": 5,
   "id": "63e99d7f",
   "metadata": {},
   "outputs": [],
   "source": [
    "#converting the the salaries table to a dataframe\n",
    "df_salaries = sqlio.read_sql_query(sql, conn2)"
   ]
  },
  {
   "cell_type": "code",
   "execution_count": 6,
   "id": "dead6be0",
   "metadata": {},
   "outputs": [
    {
     "data": {
      "text/html": [
       "<div>\n",
       "<style scoped>\n",
       "    .dataframe tbody tr th:only-of-type {\n",
       "        vertical-align: middle;\n",
       "    }\n",
       "\n",
       "    .dataframe tbody tr th {\n",
       "        vertical-align: top;\n",
       "    }\n",
       "\n",
       "    .dataframe thead th {\n",
       "        text-align: right;\n",
       "    }\n",
       "</style>\n",
       "<table border=\"1\" class=\"dataframe\">\n",
       "  <thead>\n",
       "    <tr style=\"text-align: right;\">\n",
       "      <th></th>\n",
       "      <th>emp_no</th>\n",
       "      <th>salary</th>\n",
       "    </tr>\n",
       "  </thead>\n",
       "  <tbody>\n",
       "    <tr>\n",
       "      <th>0</th>\n",
       "      <td>10001</td>\n",
       "      <td>60117</td>\n",
       "    </tr>\n",
       "    <tr>\n",
       "      <th>1</th>\n",
       "      <td>10002</td>\n",
       "      <td>65828</td>\n",
       "    </tr>\n",
       "    <tr>\n",
       "      <th>2</th>\n",
       "      <td>10003</td>\n",
       "      <td>40006</td>\n",
       "    </tr>\n",
       "    <tr>\n",
       "      <th>3</th>\n",
       "      <td>10004</td>\n",
       "      <td>40054</td>\n",
       "    </tr>\n",
       "    <tr>\n",
       "      <th>4</th>\n",
       "      <td>10005</td>\n",
       "      <td>78228</td>\n",
       "    </tr>\n",
       "  </tbody>\n",
       "</table>\n",
       "</div>"
      ],
      "text/plain": [
       "   emp_no  salary\n",
       "0   10001   60117\n",
       "1   10002   65828\n",
       "2   10003   40006\n",
       "3   10004   40054\n",
       "4   10005   78228"
      ]
     },
     "execution_count": 6,
     "metadata": {},
     "output_type": "execute_result"
    }
   ],
   "source": [
    "df_salaries.head()"
   ]
  },
  {
   "cell_type": "code",
   "execution_count": 7,
   "id": "88f34190",
   "metadata": {},
   "outputs": [
    {
     "data": {
      "text/plain": [
       "0"
      ]
     },
     "execution_count": 7,
     "metadata": {},
     "output_type": "execute_result"
    }
   ],
   "source": [
    "#checking for duplicates\n",
    "df_salaries.emp_no.duplicated().sum()"
   ]
  },
  {
   "cell_type": "code",
   "execution_count": 8,
   "id": "59618d7e",
   "metadata": {},
   "outputs": [
    {
     "data": {
      "text/plain": [
       "(300024, 2)"
      ]
     },
     "execution_count": 8,
     "metadata": {},
     "output_type": "execute_result"
    }
   ],
   "source": [
    "df_salaries.shape"
   ]
  },
  {
   "cell_type": "code",
   "execution_count": 15,
   "id": "228b7a8c",
   "metadata": {},
   "outputs": [
    {
     "data": {
      "image/png": "[encoded data removed]",
      "text/plain": [
       "<Figure size 720x576 with 1 Axes>"
      ]
     },
     "metadata": {
      "needs_background": "light"
     },
     "output_type": "display_data"
    }
   ],
   "source": [
    "#Plot a histogram of salary\n",
    "plt.figure(figsize=(10,8))\n",
    "sns.histplot(df_salaries.salary,\n",
    "             kde = False, \n",
    "             bins = 10,\n",
    "             stat = 'probability', \n",
    "             element = 'bars', \n",
    "             cumulative = 'true');\n",
    "\n",
    "plt.show()"
   ]
  },
  {
   "cell_type": "code",
   "execution_count": 12,
   "id": "c41f918c",
   "metadata": {},
   "outputs": [
    {
     "data": {
      "text/plain": [
       "(300024, 2)"
      ]
     },
     "execution_count": 12,
     "metadata": {},
     "output_type": "execute_result"
    }
   ],
   "source": [
    "df_salaries.shape"
   ]
  },
  {
   "cell_type": "code",
   "execution_count": 13,
   "id": "91a4af65",
   "metadata": {},
   "outputs": [],
   "source": [
    "#selecting all columns from depart_employee_names table\n",
    "depart_employee_names = \"\"\"select * from depart_employee_names\"\"\""
   ]
  },
  {
   "cell_type": "code",
   "execution_count": 14,
   "id": "055aaad8",
   "metadata": {},
   "outputs": [],
   "source": [
    "df_employee_and_departments = sqlio.read_sql_query(depart_employee_names, conn2)"
   ]
  },
  {
   "cell_type": "code",
   "execution_count": 15,
   "id": "cfc4ee20",
   "metadata": {},
   "outputs": [
    {
     "data": {
      "text/html": [
       "<div>\n",
       "<style scoped>\n",
       "    .dataframe tbody tr th:only-of-type {\n",
       "        vertical-align: middle;\n",
       "    }\n",
       "\n",
       "    .dataframe tbody tr th {\n",
       "        vertical-align: top;\n",
       "    }\n",
       "\n",
       "    .dataframe thead th {\n",
       "        text-align: right;\n",
       "    }\n",
       "</style>\n",
       "<table border=\"1\" class=\"dataframe\">\n",
       "  <thead>\n",
       "    <tr style=\"text-align: right;\">\n",
       "      <th></th>\n",
       "      <th>emp_no</th>\n",
       "      <th>last_name</th>\n",
       "      <th>first_name</th>\n",
       "      <th>dept_name</th>\n",
       "    </tr>\n",
       "  </thead>\n",
       "  <tbody>\n",
       "    <tr>\n",
       "      <th>0</th>\n",
       "      <td>10005</td>\n",
       "      <td>Maliniak</td>\n",
       "      <td>Kyoichi</td>\n",
       "      <td>Marketing</td>\n",
       "    </tr>\n",
       "    <tr>\n",
       "      <th>1</th>\n",
       "      <td>10010</td>\n",
       "      <td>Piveteau</td>\n",
       "      <td>Duangkaew</td>\n",
       "      <td>Marketing</td>\n",
       "    </tr>\n",
       "    <tr>\n",
       "      <th>2</th>\n",
       "      <td>10010</td>\n",
       "      <td>Piveteau</td>\n",
       "      <td>Duangkaew</td>\n",
       "      <td>Marketing</td>\n",
       "    </tr>\n",
       "    <tr>\n",
       "      <th>3</th>\n",
       "      <td>10011</td>\n",
       "      <td>Sluis</td>\n",
       "      <td>Mary</td>\n",
       "      <td>Marketing</td>\n",
       "    </tr>\n",
       "    <tr>\n",
       "      <th>4</th>\n",
       "      <td>10013</td>\n",
       "      <td>Terkki</td>\n",
       "      <td>Eberhardt</td>\n",
       "      <td>Marketing</td>\n",
       "    </tr>\n",
       "  </tbody>\n",
       "</table>\n",
       "</div>"
      ],
      "text/plain": [
       "   emp_no last_name first_name  dept_name\n",
       "0   10005  Maliniak    Kyoichi  Marketing\n",
       "1   10010  Piveteau  Duangkaew  Marketing\n",
       "2   10010  Piveteau  Duangkaew  Marketing\n",
       "3   10011     Sluis       Mary  Marketing\n",
       "4   10013    Terkki  Eberhardt  Marketing"
      ]
     },
     "execution_count": 15,
     "metadata": {},
     "output_type": "execute_result"
    }
   ],
   "source": [
    "df_employee_and_departments.head()"
   ]
  },
  {
   "cell_type": "code",
   "execution_count": 16,
   "id": "e8529472",
   "metadata": {},
   "outputs": [
    {
     "data": {
      "text/plain": [
       "(2984427, 4)"
      ]
     },
     "execution_count": 16,
     "metadata": {},
     "output_type": "execute_result"
    }
   ],
   "source": [
    "#showing the number of columns including duplicates in the data\n",
    "df_employee_and_departments.shape"
   ]
  },
  {
   "cell_type": "code",
   "execution_count": 17,
   "id": "66b0f12a",
   "metadata": {},
   "outputs": [
    {
     "data": {
      "text/plain": [
       "array(['Marketing', 'Finance', 'Human Resources', 'Production',\n",
       "       'Development', 'Quality Management', 'Sales', 'Research',\n",
       "       'Customer Service'], dtype=object)"
      ]
     },
     "execution_count": 17,
     "metadata": {},
     "output_type": "execute_result"
    }
   ],
   "source": [
    "df_employee_and_departments.dept_name.unique()"
   ]
  },
  {
   "cell_type": "code",
   "execution_count": 18,
   "id": "e629eec3",
   "metadata": {},
   "outputs": [
    {
     "data": {
      "text/plain": [
       "2684403"
      ]
     },
     "execution_count": 18,
     "metadata": {},
     "output_type": "execute_result"
    }
   ],
   "source": [
    "#showing the total number employees (emp_no) without any duplicates. \n",
    "df_employee_and_departments.emp_no.duplicated().sum()"
   ]
  },
  {
   "cell_type": "code",
   "execution_count": 19,
   "id": "2e2b6697",
   "metadata": {},
   "outputs": [],
   "source": [
    "#The total number of employees in the salaries table is 300024 and there are no duplicates"
   ]
  },
  {
   "cell_type": "code",
   "execution_count": 20,
   "id": "be4631d1",
   "metadata": {},
   "outputs": [],
   "source": [
    "#We can see that there that have duplicates in df_salaries_and_departments detaframe.  "
   ]
  },
  {
   "cell_type": "code",
   "execution_count": 21,
   "id": "e513de1e",
   "metadata": {},
   "outputs": [],
   "source": [
    "#dropping duplicates that have the same emp_no and dept_name.\n",
    "\n",
    "df_employee_and_departments.drop_duplicates(subset=['emp_no', 'dept_name'], keep='last', inplace = True)"
   ]
  },
  {
   "cell_type": "code",
   "execution_count": 22,
   "id": "f8e27826",
   "metadata": {},
   "outputs": [
    {
     "data": {
      "text/html": [
       "<div>\n",
       "<style scoped>\n",
       "    .dataframe tbody tr th:only-of-type {\n",
       "        vertical-align: middle;\n",
       "    }\n",
       "\n",
       "    .dataframe tbody tr th {\n",
       "        vertical-align: top;\n",
       "    }\n",
       "\n",
       "    .dataframe thead th {\n",
       "        text-align: right;\n",
       "    }\n",
       "</style>\n",
       "<table border=\"1\" class=\"dataframe\">\n",
       "  <thead>\n",
       "    <tr style=\"text-align: right;\">\n",
       "      <th></th>\n",
       "      <th>emp_no</th>\n",
       "      <th>last_name</th>\n",
       "      <th>first_name</th>\n",
       "      <th>dept_name</th>\n",
       "    </tr>\n",
       "  </thead>\n",
       "  <tbody>\n",
       "    <tr>\n",
       "      <th>0</th>\n",
       "      <td>10005</td>\n",
       "      <td>Maliniak</td>\n",
       "      <td>Kyoichi</td>\n",
       "      <td>Marketing</td>\n",
       "    </tr>\n",
       "    <tr>\n",
       "      <th>2</th>\n",
       "      <td>10010</td>\n",
       "      <td>Piveteau</td>\n",
       "      <td>Duangkaew</td>\n",
       "      <td>Marketing</td>\n",
       "    </tr>\n",
       "    <tr>\n",
       "      <th>3</th>\n",
       "      <td>10011</td>\n",
       "      <td>Sluis</td>\n",
       "      <td>Mary</td>\n",
       "      <td>Marketing</td>\n",
       "    </tr>\n",
       "    <tr>\n",
       "      <th>4</th>\n",
       "      <td>10013</td>\n",
       "      <td>Terkki</td>\n",
       "      <td>Eberhardt</td>\n",
       "      <td>Marketing</td>\n",
       "    </tr>\n",
       "    <tr>\n",
       "      <th>5</th>\n",
       "      <td>10017</td>\n",
       "      <td>Bouloucos</td>\n",
       "      <td>Cristinel</td>\n",
       "      <td>Marketing</td>\n",
       "    </tr>\n",
       "  </tbody>\n",
       "</table>\n",
       "</div>"
      ],
      "text/plain": [
       "   emp_no  last_name first_name  dept_name\n",
       "0   10005   Maliniak    Kyoichi  Marketing\n",
       "2   10010   Piveteau  Duangkaew  Marketing\n",
       "3   10011      Sluis       Mary  Marketing\n",
       "4   10013     Terkki  Eberhardt  Marketing\n",
       "5   10017  Bouloucos  Cristinel  Marketing"
      ]
     },
     "execution_count": 22,
     "metadata": {},
     "output_type": "execute_result"
    }
   ],
   "source": [
    "df_employee_and_departments.head()"
   ]
  },
  {
   "cell_type": "code",
   "execution_count": 23,
   "id": "44388f2b",
   "metadata": {},
   "outputs": [
    {
     "data": {
      "text/plain": [
       "(2700216, 4)"
      ]
     },
     "execution_count": 23,
     "metadata": {},
     "output_type": "execute_result"
    }
   ],
   "source": [
    "# If duplicates are removed from the employee_and_department_df, \n",
    "#the number of employees in the departments  is 27000216 and \n",
    "#is not the same as number of employees on the salary table. infact the salary table has 300024. \n",
    "#This appears to suggests that there are employees on the payroll without a department or are ghost workers\n",
    "\n",
    "df_employee_and_departments.shape"
   ]
  },
  {
   "cell_type": "code",
   "execution_count": 24,
   "id": "5f4d4f2b",
   "metadata": {},
   "outputs": [],
   "source": [
    "df_salaries_and_departments = pd.merge(\n",
    "                                df_employee_and_departments, df_salaries, \n",
    "                                on = 'emp_no', how = 'left' \n",
    ")"
   ]
  },
  {
   "cell_type": "code",
   "execution_count": 25,
   "id": "eb7b5026",
   "metadata": {},
   "outputs": [
    {
     "data": {
      "text/html": [
       "<div>\n",
       "<style scoped>\n",
       "    .dataframe tbody tr th:only-of-type {\n",
       "        vertical-align: middle;\n",
       "    }\n",
       "\n",
       "    .dataframe tbody tr th {\n",
       "        vertical-align: top;\n",
       "    }\n",
       "\n",
       "    .dataframe thead th {\n",
       "        text-align: right;\n",
       "    }\n",
       "</style>\n",
       "<table border=\"1\" class=\"dataframe\">\n",
       "  <thead>\n",
       "    <tr style=\"text-align: right;\">\n",
       "      <th></th>\n",
       "      <th>emp_no</th>\n",
       "      <th>last_name</th>\n",
       "      <th>first_name</th>\n",
       "      <th>dept_name</th>\n",
       "      <th>salary</th>\n",
       "    </tr>\n",
       "  </thead>\n",
       "  <tbody>\n",
       "    <tr>\n",
       "      <th>0</th>\n",
       "      <td>10005</td>\n",
       "      <td>Maliniak</td>\n",
       "      <td>Kyoichi</td>\n",
       "      <td>Marketing</td>\n",
       "      <td>78228</td>\n",
       "    </tr>\n",
       "    <tr>\n",
       "      <th>1</th>\n",
       "      <td>10010</td>\n",
       "      <td>Piveteau</td>\n",
       "      <td>Duangkaew</td>\n",
       "      <td>Marketing</td>\n",
       "      <td>72488</td>\n",
       "    </tr>\n",
       "    <tr>\n",
       "      <th>2</th>\n",
       "      <td>10011</td>\n",
       "      <td>Sluis</td>\n",
       "      <td>Mary</td>\n",
       "      <td>Marketing</td>\n",
       "      <td>42365</td>\n",
       "    </tr>\n",
       "    <tr>\n",
       "      <th>3</th>\n",
       "      <td>10013</td>\n",
       "      <td>Terkki</td>\n",
       "      <td>Eberhardt</td>\n",
       "      <td>Marketing</td>\n",
       "      <td>40000</td>\n",
       "    </tr>\n",
       "    <tr>\n",
       "      <th>4</th>\n",
       "      <td>10017</td>\n",
       "      <td>Bouloucos</td>\n",
       "      <td>Cristinel</td>\n",
       "      <td>Marketing</td>\n",
       "      <td>71380</td>\n",
       "    </tr>\n",
       "  </tbody>\n",
       "</table>\n",
       "</div>"
      ],
      "text/plain": [
       "   emp_no  last_name first_name  dept_name  salary\n",
       "0   10005   Maliniak    Kyoichi  Marketing   78228\n",
       "1   10010   Piveteau  Duangkaew  Marketing   72488\n",
       "2   10011      Sluis       Mary  Marketing   42365\n",
       "3   10013     Terkki  Eberhardt  Marketing   40000\n",
       "4   10017  Bouloucos  Cristinel  Marketing   71380"
      ]
     },
     "execution_count": 25,
     "metadata": {},
     "output_type": "execute_result"
    }
   ],
   "source": [
    "df_salaries_and_departments.head()"
   ]
  },
  {
   "cell_type": "code",
   "execution_count": 26,
   "id": "259c15bb",
   "metadata": {},
   "outputs": [
    {
     "data": {
      "text/plain": [
       "(2700216, 5)"
      ]
     },
     "execution_count": 26,
     "metadata": {},
     "output_type": "execute_result"
    }
   ],
   "source": [
    "df_salaries_and_departments.shape"
   ]
  },
  {
   "cell_type": "code",
   "execution_count": 27,
   "id": "40107a73",
   "metadata": {},
   "outputs": [],
   "source": [
    "employee_title_id = \"\"\"select*from employees_and_title_id\"\"\""
   ]
  },
  {
   "cell_type": "code",
   "execution_count": 28,
   "id": "d03506fd",
   "metadata": {},
   "outputs": [],
   "source": [
    "df_employee_title_id = sqlio.read_sql_query(employee_title_id, conn2)"
   ]
  },
  {
   "cell_type": "code",
   "execution_count": 29,
   "id": "18a74463",
   "metadata": {},
   "outputs": [
    {
     "data": {
      "text/html": [
       "<div>\n",
       "<style scoped>\n",
       "    .dataframe tbody tr th:only-of-type {\n",
       "        vertical-align: middle;\n",
       "    }\n",
       "\n",
       "    .dataframe tbody tr th {\n",
       "        vertical-align: top;\n",
       "    }\n",
       "\n",
       "    .dataframe thead th {\n",
       "        text-align: right;\n",
       "    }\n",
       "</style>\n",
       "<table border=\"1\" class=\"dataframe\">\n",
       "  <thead>\n",
       "    <tr style=\"text-align: right;\">\n",
       "      <th></th>\n",
       "      <th>emp_no</th>\n",
       "      <th>emp_title_id</th>\n",
       "      <th>birth_date</th>\n",
       "      <th>first_name</th>\n",
       "      <th>last_name</th>\n",
       "      <th>sex</th>\n",
       "      <th>hire_date</th>\n",
       "      <th>title_id</th>\n",
       "      <th>title</th>\n",
       "    </tr>\n",
       "  </thead>\n",
       "  <tbody>\n",
       "    <tr>\n",
       "      <th>0</th>\n",
       "      <td>473302</td>\n",
       "      <td>s0001</td>\n",
       "      <td>1953-07-25</td>\n",
       "      <td>Hideyuki</td>\n",
       "      <td>Zallocco</td>\n",
       "      <td>M</td>\n",
       "      <td>1990-04-28</td>\n",
       "      <td>s0001</td>\n",
       "      <td>Staff</td>\n",
       "    </tr>\n",
       "    <tr>\n",
       "      <th>1</th>\n",
       "      <td>475053</td>\n",
       "      <td>e0002</td>\n",
       "      <td>1954-11-18</td>\n",
       "      <td>Byong</td>\n",
       "      <td>Delgrande</td>\n",
       "      <td>F</td>\n",
       "      <td>1991-09-07</td>\n",
       "      <td>e0002</td>\n",
       "      <td>Engineer</td>\n",
       "    </tr>\n",
       "    <tr>\n",
       "      <th>2</th>\n",
       "      <td>57444</td>\n",
       "      <td>e0002</td>\n",
       "      <td>1958-01-30</td>\n",
       "      <td>Berry</td>\n",
       "      <td>Babb</td>\n",
       "      <td>F</td>\n",
       "      <td>1992-03-21</td>\n",
       "      <td>e0002</td>\n",
       "      <td>Engineer</td>\n",
       "    </tr>\n",
       "    <tr>\n",
       "      <th>3</th>\n",
       "      <td>421786</td>\n",
       "      <td>s0001</td>\n",
       "      <td>1957-09-28</td>\n",
       "      <td>Xiong</td>\n",
       "      <td>Verhoeff</td>\n",
       "      <td>M</td>\n",
       "      <td>1987-11-26</td>\n",
       "      <td>s0001</td>\n",
       "      <td>Staff</td>\n",
       "    </tr>\n",
       "    <tr>\n",
       "      <th>4</th>\n",
       "      <td>282238</td>\n",
       "      <td>e0003</td>\n",
       "      <td>1952-10-28</td>\n",
       "      <td>Abdelkader</td>\n",
       "      <td>Baumann</td>\n",
       "      <td>F</td>\n",
       "      <td>1991-01-18</td>\n",
       "      <td>e0003</td>\n",
       "      <td>Senior Engineer</td>\n",
       "    </tr>\n",
       "  </tbody>\n",
       "</table>\n",
       "</div>"
      ],
      "text/plain": [
       "   emp_no emp_title_id  birth_date  first_name  last_name sex   hire_date  \\\n",
       "0  473302        s0001  1953-07-25    Hideyuki   Zallocco   M  1990-04-28   \n",
       "1  475053        e0002  1954-11-18       Byong  Delgrande   F  1991-09-07   \n",
       "2   57444        e0002  1958-01-30       Berry       Babb   F  1992-03-21   \n",
       "3  421786        s0001  1957-09-28       Xiong   Verhoeff   M  1987-11-26   \n",
       "4  282238        e0003  1952-10-28  Abdelkader    Baumann   F  1991-01-18   \n",
       "\n",
       "  title_id            title  \n",
       "0    s0001            Staff  \n",
       "1    e0002         Engineer  \n",
       "2    e0002         Engineer  \n",
       "3    s0001            Staff  \n",
       "4    e0003  Senior Engineer  "
      ]
     },
     "execution_count": 29,
     "metadata": {},
     "output_type": "execute_result"
    }
   ],
   "source": [
    "df_employee_title_id.head()"
   ]
  },
  {
   "cell_type": "code",
   "execution_count": 30,
   "id": "b913f3eb",
   "metadata": {},
   "outputs": [],
   "source": [
    "#To plot a barplot of salary against title. \n",
    "#Dataframes of df_salaries and df_salary_and_title_id need to be merged\n",
    "\n",
    "df_salary_and_title_id = pd.merge(\n",
    "                                df_employee_title_id, df_salaries, \n",
    "                                on = 'emp_no', how = 'left' \n",
    ")"
   ]
  },
  {
   "cell_type": "code",
   "execution_count": 31,
   "id": "fa294cac",
   "metadata": {},
   "outputs": [
    {
     "data": {
      "text/html": [
       "<div>\n",
       "<style scoped>\n",
       "    .dataframe tbody tr th:only-of-type {\n",
       "        vertical-align: middle;\n",
       "    }\n",
       "\n",
       "    .dataframe tbody tr th {\n",
       "        vertical-align: top;\n",
       "    }\n",
       "\n",
       "    .dataframe thead th {\n",
       "        text-align: right;\n",
       "    }\n",
       "</style>\n",
       "<table border=\"1\" class=\"dataframe\">\n",
       "  <thead>\n",
       "    <tr style=\"text-align: right;\">\n",
       "      <th></th>\n",
       "      <th>emp_no</th>\n",
       "      <th>emp_title_id</th>\n",
       "      <th>birth_date</th>\n",
       "      <th>first_name</th>\n",
       "      <th>last_name</th>\n",
       "      <th>sex</th>\n",
       "      <th>hire_date</th>\n",
       "      <th>title_id</th>\n",
       "      <th>title</th>\n",
       "      <th>salary</th>\n",
       "    </tr>\n",
       "  </thead>\n",
       "  <tbody>\n",
       "    <tr>\n",
       "      <th>0</th>\n",
       "      <td>473302</td>\n",
       "      <td>s0001</td>\n",
       "      <td>1953-07-25</td>\n",
       "      <td>Hideyuki</td>\n",
       "      <td>Zallocco</td>\n",
       "      <td>M</td>\n",
       "      <td>1990-04-28</td>\n",
       "      <td>s0001</td>\n",
       "      <td>Staff</td>\n",
       "      <td>40000</td>\n",
       "    </tr>\n",
       "    <tr>\n",
       "      <th>1</th>\n",
       "      <td>475053</td>\n",
       "      <td>e0002</td>\n",
       "      <td>1954-11-18</td>\n",
       "      <td>Byong</td>\n",
       "      <td>Delgrande</td>\n",
       "      <td>F</td>\n",
       "      <td>1991-09-07</td>\n",
       "      <td>e0002</td>\n",
       "      <td>Engineer</td>\n",
       "      <td>53422</td>\n",
       "    </tr>\n",
       "    <tr>\n",
       "      <th>2</th>\n",
       "      <td>57444</td>\n",
       "      <td>e0002</td>\n",
       "      <td>1958-01-30</td>\n",
       "      <td>Berry</td>\n",
       "      <td>Babb</td>\n",
       "      <td>F</td>\n",
       "      <td>1992-03-21</td>\n",
       "      <td>e0002</td>\n",
       "      <td>Engineer</td>\n",
       "      <td>48973</td>\n",
       "    </tr>\n",
       "    <tr>\n",
       "      <th>3</th>\n",
       "      <td>421786</td>\n",
       "      <td>s0001</td>\n",
       "      <td>1957-09-28</td>\n",
       "      <td>Xiong</td>\n",
       "      <td>Verhoeff</td>\n",
       "      <td>M</td>\n",
       "      <td>1987-11-26</td>\n",
       "      <td>s0001</td>\n",
       "      <td>Staff</td>\n",
       "      <td>40000</td>\n",
       "    </tr>\n",
       "    <tr>\n",
       "      <th>4</th>\n",
       "      <td>282238</td>\n",
       "      <td>e0003</td>\n",
       "      <td>1952-10-28</td>\n",
       "      <td>Abdelkader</td>\n",
       "      <td>Baumann</td>\n",
       "      <td>F</td>\n",
       "      <td>1991-01-18</td>\n",
       "      <td>e0003</td>\n",
       "      <td>Senior Engineer</td>\n",
       "      <td>40000</td>\n",
       "    </tr>\n",
       "  </tbody>\n",
       "</table>\n",
       "</div>"
      ],
      "text/plain": [
       "   emp_no emp_title_id  birth_date  first_name  last_name sex   hire_date  \\\n",
       "0  473302        s0001  1953-07-25    Hideyuki   Zallocco   M  1990-04-28   \n",
       "1  475053        e0002  1954-11-18       Byong  Delgrande   F  1991-09-07   \n",
       "2   57444        e0002  1958-01-30       Berry       Babb   F  1992-03-21   \n",
       "3  421786        s0001  1957-09-28       Xiong   Verhoeff   M  1987-11-26   \n",
       "4  282238        e0003  1952-10-28  Abdelkader    Baumann   F  1991-01-18   \n",
       "\n",
       "  title_id            title  salary  \n",
       "0    s0001            Staff   40000  \n",
       "1    e0002         Engineer   53422  \n",
       "2    e0002         Engineer   48973  \n",
       "3    s0001            Staff   40000  \n",
       "4    e0003  Senior Engineer   40000  "
      ]
     },
     "execution_count": 31,
     "metadata": {},
     "output_type": "execute_result"
    }
   ],
   "source": [
    "df_salary_and_title_id.head()"
   ]
  },
  {
   "cell_type": "code",
   "execution_count": 32,
   "id": "0b24acb0",
   "metadata": {},
   "outputs": [
    {
     "data": {
      "text/plain": [
       "(300024, 10)"
      ]
     },
     "execution_count": 32,
     "metadata": {},
     "output_type": "execute_result"
    }
   ],
   "source": [
    "df_salary_and_title_id.shape"
   ]
  },
  {
   "cell_type": "code",
   "execution_count": 146,
   "id": "fc4ef2d4",
   "metadata": {},
   "outputs": [
    {
     "data": {
      "image/png": "[encoded data removed]",
      "text/plain": [
       "<Figure size 1008x864 with 1 Axes>"
      ]
     },
     "metadata": {
      "needs_background": "light"
     },
     "output_type": "display_data"
    }
   ],
   "source": [
    "#a barplot of salary against title\n",
    "plt.figure(figsize=(14,12))\n",
    "sns.histplot(x = 'salary', data = df_salary_and_title_id,\n",
    "             hue = 'title', multiple = 'fill', kde = False);"
   ]
  },
  {
   "cell_type": "markdown",
   "id": "042c162e",
   "metadata": {},
   "source": [
    "staff employees are more most likely to earn a higher salary than those with any other title, followed by senior staff"
   ]
  },
  {
   "cell_type": "markdown",
   "id": "23a8e8b2",
   "metadata": {},
   "source": [
    "## Barplot"
   ]
  },
  {
   "cell_type": "code",
   "execution_count": 133,
   "id": "bcf5e82a",
   "metadata": {},
   "outputs": [
    {
     "data": {
      "image/png": "[encoded data removed]",
      "text/plain": [
       "<Figure size 1008x864 with 1 Axes>"
      ]
     },
     "metadata": {
      "needs_background": "light"
     },
     "output_type": "display_data"
    }
   ],
   "source": [
    "\n",
    "plt.figure(figsize=(14,12))\n",
    "sns.barplot(x = 'title', \n",
    "            y = 'salary', \n",
    "            hue = \"sex\",\n",
    "            data = df_salary_and_title_id, \n",
    "            ci = 95 ),\n",
    "\n",
    "sns.despine();\n",
    "plt.xticks(rotation=0),\n",
    "plt.xlabel('title', fontsize = 16,),\n",
    "plt.ylabel('salary', rotation = 0,  position =( -.9,0), fontsize = 16,  labelpad = 10,)\n",
    "plt.title('Employee average salary based on title and sex', fontsize = 18, loc = None, fontweight = 'bold')\n",
    "plt.legend(fontsize = 16, frameon = False)\n",
    "plt.show()\n",
    "\n",
    "\n"
   ]
  },
  {
   "cell_type": "markdown",
   "id": "c8d90ba3",
   "metadata": {},
   "source": [
    "## Conclusions\n",
    "\n",
    "The title does not appear to have a significant influence  on the salary that the employee earns.i.e an employee with the senior staff earns the same amount as an employee with a staff title. \n",
    "\n",
    "In the main this company is fair on its employees irrespective of their sex\n",
    "\n",
    "On average M and F employees with the same title earn the same amount. #Apart from those with the title manager where f employees are disadvantaged.\n",
    "\n",
    "The number of employees in the departments  is 27000216 and is not the same as number of employees on the salary table. infact the salary table has 300024. \n",
    "\n",
    "This appears to suggests that there are employees on the payroll without a department or are ghost workers\n"
   ]
  },
  {
   "cell_type": "code",
   "execution_count": null,
   "id": "ad64af4e",
   "metadata": {},
   "outputs": [],
   "source": []
  }
 ],
 "metadata": {
  "kernelspec": {
   "display_name": "Python [conda env:PythonData]",
   "language": "python",
   "name": "conda-env-PythonData-py"
  },
  "language_info": {
   "codemirror_mode": {
    "name": "ipython",
    "version": 3
   },
   "file_extension": ".py",
   "mimetype": "text/x-python",
   "name": "python",
   "nbconvert_exporter": "python",
   "pygments_lexer": "ipython3",
   "version": "3.7.11"
  }
 },
 "nbformat": 4,
 "nbformat_minor": 5
}
